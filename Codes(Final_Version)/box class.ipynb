{
  "nbformat": 4,
  "nbformat_minor": 0,
  "metadata": {
    "colab": {
      "name": "boxplot(final).ipynb",
      "provenance": [],
      "collapsed_sections": []
    },
    "kernelspec": {
      "name": "python3",
      "display_name": "Python 3"
    },
    "language_info": {
      "name": "python"
    }
  },
  "cells": [
    {
      "cell_type": "code",
      "metadata": {
        "id": "nmJ_VfNZtt0L",
        "colab": {
          "base_uri": "https://localhost:8080/"
        },
        "outputId": "41143a4c-7b3a-4da0-fa14-615e2a739b24"
      },
      "source": [
        "# Data analysis library numpy and pandas\n",
        "import pandas as pd\n",
        "import numpy as np\n",
        "\n",
        "# Data visualization library matplotlib and seaborn\n",
        "import seaborn as sns\n",
        "import matplotlib\n",
        "import matplotlib.pyplot as plt\n",
        "import matplotlib.font_manager\n",
        "import matplotlib.patches as mpatches\n",
        "\n",
        "import mimetypes\n",
        "import urllib\n",
        "import os\n",
        "\n",
        "from google.colab import drive\t\n",
        "drive.mount('/content/drive')"
      ],
      "execution_count": 1,
      "outputs": [
        {
          "output_type": "stream",
          "text": [
            "Mounted at /content/drive\n"
          ],
          "name": "stdout"
        }
      ]
    },
    {
      "cell_type": "code",
      "metadata": {
        "id": "wJTJ3jm5xSj1"
      },
      "source": [
        "## setting path\n",
        "# get current path\n",
        "path_current = os.getcwd()\n",
        "# the path is where the dataset saved\n",
        "path = path_current + '/drive/MyDrive/Paper-Viz-master/Example_Data/Box/' \n",
        "# the \"path_img\" is the position where final image will be saved\n",
        "path_img = path_current + '/drive/My Drive/Paper-Viz-master/Images/'"
      ],
      "execution_count": 3,
      "outputs": []
    },
    {
      "cell_type": "code",
      "metadata": {
        "id": "pD9ZqQOnxSn4"
      },
      "source": [
        "class Box_plot: \n",
        "  # read data\n",
        "  def read_file(self,file):\n",
        "    file_url = urllib.request.pathname2url(file)\n",
        "    ftype = mimetypes.guess_type(file_url, strict=True)[0]\n",
        "    ## read data file according to its formate, default includes three types of files: csv/excel/text\n",
        "    # read csv format data from the parking dataset\n",
        "    if 'csv' in ftype:\n",
        "      # usecols: return a subset of the columns, here choose one column to use in the line chart\n",
        "      data = pd.read_csv(path+file)\n",
        "    # read excel format data from the parking dataset\n",
        "    elif 'sheet' in ftype:\n",
        "      data = pd.read_excel(path+file)\n",
        "    # read text format data from the parking dataset\n",
        "    elif ftype == 'text/plain':\n",
        "      data = pd.read_csv(path+file, sep=\"\\t\")\n",
        "    else:\n",
        "      print(\"File type cannot find!\")\n",
        "    return data\n",
        "\n",
        "  # check the available file name\n",
        "  # if the input file name already existed then rename to file_1, file_2 \n",
        "  def get_available_name(self,filename):\n",
        "    n=[1]\n",
        "    def check_meta(file_name):\n",
        "        file_name_new=file_name\n",
        "        if file_name in [os.path.splitext(i)[0] for i in os.listdir(path_img)]:   \n",
        "            file_name_new=file_name+'_'+str(n[0])\n",
        "            n[0]+=1\n",
        "        if file_name_new in [os.path.splitext(i)[0] for i in os.listdir(path_img)]:   \n",
        "            file_name_new=check_meta(file_name)\n",
        "        return file_name_new\n",
        "    available_name=check_meta(filename)\n",
        "    return available_name\n",
        "\n",
        "  # file: file name of your data source\n",
        "  # x_col_name: ['x_column_name_a','x_column_name_b'...]\n",
        "  # paper_type : 'single' or 'double'\n",
        "  def box(self, file, x_col_name, paper_type, **kwargs):\n",
        "    # Configuration of the box plot\n",
        "    # plotwidth: width of the plot\n",
        "    # plotheight: height of the plot\n",
        "    # backgrid: backgrid of the plot\n",
        "    # isframe: frame of the plot\n",
        "    # my_font: the typeface of x, y labels\n",
        "    # gridlinewidth: grid line width\n",
        "    # title: True or False as options. If it is True, add title for the plot\n",
        "    # title_pad: if the title is True, modify pad size of title\n",
        "    # title_size: if the title is True, modify size of title\n",
        "    # title_loc: if the title is True, modify location of title\n",
        "    # x_label: the content of x label\n",
        "    # y_label: the content of y label\n",
        "    # palette: color palette of box plot\n",
        "    # widths: each box width\n",
        "    # notch: True or false, if true, add notch to each box\n",
        "    # vert: True or False, If True , makes the boxes vertical. If False, everything is drawn horizontally\n",
        "    # showfliers: True or False, if true, show the outliers beyond the caps\n",
        "    # showcaps: True or False, if true, show the caps on the ends of whiskers\n",
        "    # patch_artist: True or False, if true, boxes and drawn with Patch artists\n",
        "    # box_linestyle: the style of box outline\n",
        "    # box_linewidth: the line width of box outlines\n",
        "    # medianline_color: the color or median line color\n",
        "    # showmeans: True or False, if true, show the median line\n",
        "    # meanline_color: the color or mean line color\n",
        "    # meanline_style: the line style of mean line\n",
        "    # markers_shape: the shape of outliers\n",
        "    # actual_value: True or False, if true show the actual value of mean or meadian\n",
        "    # save_image: True or False as options. If it is True, save chart\n",
        "    # savefig_bbox_inches: Bounding box in inches\n",
        "    # file_name: the file name in saving image\n",
        "\n",
        "    single_column_conf={ 'plotwidth':8,#weight\n",
        "                      'plotheight':6, #height\n",
        "                      'my_font':'DejaVu Sans',\n",
        "                      'labeltext_size':25,\n",
        "                      'labelpad':10,\n",
        "                      'backgrid':True,\n",
        "                      'isframe':True,\n",
        "                      'gridlinewidth':0.5,\n",
        "                      'title':False,\n",
        "                      'title_pad':10,\n",
        "                      'title_size':20,\n",
        "                      'tick_size':15,\n",
        "                      'title_loc':'center',\n",
        "                      'x_label':None,\n",
        "                      'y_label':None,\n",
        "                      'palette':sns.color_palette(\"hls\", 10),\n",
        "                      'widths':0.5,\n",
        "                      'notch':False,\n",
        "                      'vert':True,\n",
        "                      'showfliers':True,\n",
        "                      'showcaps':True,\n",
        "                      'patch_artist':True,\n",
        "                      'box_linestyle': '-', \n",
        "                      'box_linewidth': 1,\n",
        "                      'medianline_color':'Black',\n",
        "                      'showmeans':False,\n",
        "                      'meanline_color':'White',\n",
        "                      'meanline_style':'--',\n",
        "                      'markers_shape':['o','v','D','X','P','2','p','x','d','4','<','*'], \n",
        "                      'actual_value':False,\n",
        "                      'save_image':False,\n",
        "                      'savefig_bbox_inches':'tight',\n",
        "                      'file_name':'box_plot',\n",
        "                      }\n",
        "    double_column_conf={ 'plotwidth':8,#weight\n",
        "                      'plotheight':6, #height\n",
        "                      'my_font':'DejaVu Sans',\n",
        "                      'labeltext_size':25,\n",
        "                      'labelpad':10,\n",
        "                      'backgrid':True,\n",
        "                      'isframe':True,\n",
        "                      'gridlinewidth':0.5,\n",
        "                      'title':False,\n",
        "                      'title_pad':10,\n",
        "                      'title_size':20,\n",
        "                      'tick_size':18,\n",
        "                      'title_loc':'center',\n",
        "                      'x_label':None,\n",
        "                      'y_label':None,\n",
        "                      'palette':sns.color_palette(\"hls\", 10),\n",
        "                      'widths':0.5,\n",
        "                      'notch':False,\n",
        "                      'vert':True,\n",
        "                      'showfliers':True,\n",
        "                      'showcaps':True,\n",
        "                      'patch_artist':True,\n",
        "                      'box_linestyle': '-', \n",
        "                      'box_linewidth': 1,\n",
        "                      'medianline_color':'Black',\n",
        "                      'showmeans':False,\n",
        "                      'meanline_color':'White',\n",
        "                      'meanline_style':'--',\n",
        "                      'markers_shape':['o','v','D','X','P','2','p','x','d','4','<','*'], \n",
        "                      'actual_value':False,\n",
        "                      'save_image':False,\n",
        "                      'savefig_bbox_inches':'tight',\n",
        "                      'file_name':'box_plot',\n",
        "                      }\n",
        "    # choose the configuration of plot\n",
        "    if paper_type == 'single':\n",
        "      conf = single_column_conf\n",
        "    elif paper_type == 'double':\n",
        "      conf = double_column_conf  \n",
        "    conf.update(kwargs)\n",
        "    # create figure and set figure size  \n",
        "    fig, ax_left = plt.subplots(figsize = (conf['plotwidth'], conf['plotheight']))   \n",
        "    \n",
        "    #read data\n",
        "    try:\n",
        "      data = self.read_file(file)\n",
        "    except Exception:\n",
        "      print('Sorry, this file does not exist, please check the file name') \n",
        "    # draw back grid of whole plot\n",
        "    if conf['backgrid'] == True:\n",
        "      ax_left.grid(linestyle=\"--\", linewidth=conf['gridlinewidth'], color='gray', alpha=0.5)\n",
        "    \n",
        "    # x, y axis label setting\n",
        "    # fontsize: x, y title size\n",
        "    ax_left.set_xlabel(conf['x_label'], fontproperties=conf['my_font'], fontsize=conf['labeltext_size'], labelpad=conf['labelpad'])\n",
        "    ax_left.set_ylabel(conf['y_label'], fontproperties=conf['my_font'], fontsize=conf['labeltext_size'], labelpad=conf['labelpad'])\n",
        "\n",
        "    #plot     \n",
        "    for i in range(len(x_col_name)):\n",
        "      # if the showmeans is false, draw the box plot only includes details of medians\n",
        "      if conf['showmeans'] == False:\n",
        "        box=ax_left.boxplot(data[x_col_name[i]],positions=[i],labels=[x_col_name[i]],patch_artist=conf['patch_artist'],vert=conf['vert'],widths=conf['widths'],\n",
        "                        boxprops={'facecolor':conf['palette'][i],'color':conf['palette'][i],'linestyle': conf['box_linestyle'], 'linewidth': conf['box_linewidth']},\n",
        "                        medianprops={'color':conf['medianline_color']},\n",
        "                        flierprops=dict(marker=conf['markers_shape'][i],markeredgecolor=conf['palette'][i]),\n",
        "                        notch=conf['notch']\n",
        "                        )\n",
        "        # show the actual value of medians in box plot\n",
        "        if conf['actual_value']==True:\n",
        "          ax_left.text(x=box['medians'][0].get_data(orig=True)[0][1]+0.01,y=box['medians'][0].get_data(orig=True)[1][0],s='medians='+str(box['medians'][0].get_data(orig=True)[1][0]),fontsize=12)\n",
        "\n",
        "        \n",
        "      else:\n",
        "        box=ax_left.boxplot(data[x_col_name[i]],positions=[i],labels=[x_col_name[i]],patch_artist=conf['patch_artist'],vert=conf['vert'],widths=conf['widths'],\n",
        "                      boxprops={'facecolor':conf['palette'][i],'color':conf['palette'][i],'linestyle': conf['box_linestyle'], 'linewidth': conf['box_linewidth']},\n",
        "                      medianprops={'color':conf['medianline_color'],'linewidth': conf['box_linewidth']},\n",
        "                      showmeans=True,meanline=True,meanprops={'color':conf['meanline_color'],'linestyle': conf['meanline_style'],'linewidth': conf['box_linewidth']},\n",
        "                      flierprops=dict(marker=conf['markers_shape'][i],markeredgecolor=conf['palette'][i]), \n",
        "                      notch=conf['notch']\n",
        "                      )\n",
        "        if conf['actual_value']==True:\n",
        "          # check the value of medians and means the actual values shows above the line if it has bigger value, else, show detail below the line\n",
        "          if box['medians'][0].get_data(orig=True)[1][0]>box['means'][0].get_data(orig=True)[1][0]:\n",
        "            ax_left.text(x=box['medians'][0].get_data(orig=True)[0][0],y=box['medians'][0].get_data(orig=True)[1][0]*1.1,s='medians='+str(round(box['medians'][0].get_data(orig=True)[1][0],3)),fontsize=12)\n",
        "            ax_left.text(x=box['means'][0].get_data(orig=True)[0][0],y=box['means'][0].get_data(orig=True)[1][0]*0.8,s='means='+str(round(box['means'][0].get_data(orig=True)[1][0],3)),fontsize=12)\n",
        "          else:\n",
        "            ax_left.text(x=box['medians'][0].get_data(orig=True)[0][0],y=box['medians'][0].get_data(orig=True)[1][0]*0.8,s='medians='+str(round(box['medians'][0].get_data(orig=True)[1][0],3)),fontsize=12)\n",
        "            ax_left.text(x=box['means'][0].get_data(orig=True)[0][0],y=box['means'][0].get_data(orig=True)[1][0]*1.1,s='means='+str(round(box['means'][0].get_data(orig=True)[1][0],3)),fontsize=12)\n",
        "    \n",
        "   \n",
        "    # if False, top and right borders removing    \n",
        "    if conf['isframe'] == False:\n",
        "        ax.spines['top'].set_visible(False)\n",
        "        ax.spines['right'].set_visible(False)\n",
        "    # set x, y tick's direction, default:out, can be set to in,out,inout\n",
        "    for tick in ax_left.xaxis.get_major_ticks():\n",
        "      tick.label.set_fontsize(conf['tick_size'])\n",
        "    for tick in ax_left.yaxis.get_major_ticks():\n",
        "      tick.label.set_fontsize(conf['tick_size'])\n",
        "    #title setting\n",
        "    if conf['title'] == False:\n",
        "      pass\n",
        "    else:\n",
        "      ax_left.set_title(conf['title'], fontsize=conf['title_size'], loc=conf['title_loc'], pad=conf['title_pad'])\n",
        "    #save\n",
        "    if conf['save_image'] == True:\n",
        "      file_name=conf['file_name']\n",
        "      file_newname = self.get_available_name(file_name)\n",
        "      plt.savefig(path_img+file_newname, bbox_inches=conf['savefig_bbox_inches'])  \n"
      ],
      "execution_count": 4,
      "outputs": []
    },
    {
      "cell_type": "code",
      "metadata": {
        "id": "mg4MOZrXxTEk",
        "colab": {
          "base_uri": "https://localhost:8080/",
          "height": 413
        },
        "outputId": "3f8854fa-453b-4883-c6aa-932c3af5dda7"
      },
      "source": [
        "# Multi-item box plot\n",
        "abox=Box_plot()\n",
        "abox.box('3.xlsx',x_col_name=['line1','line2','line3'],x_label='x',y_label='y',paper_type='single',showmeans=False,actual_value=False)"
      ],
      "execution_count": 5,
      "outputs": [
        {
          "output_type": "display_data",
          "data": {
            "image/png": "[encoded data removed]",
            "text/plain": [
              "<Figure size 576x432 with 1 Axes>"
            ]
          },
          "metadata": {
            "tags": [],
            "needs_background": "light"
          }
        }
      ]
    },
    {
      "cell_type": "code",
      "metadata": {
        "colab": {
          "base_uri": "https://localhost:8080/",
          "height": 413
        },
        "id": "BUhsdAWhJEv3",
        "outputId": "721d9bf3-f5c0-46d5-b248-1a4491b76fd5"
      },
      "source": [
        "# Multi-item box plot with actual mean and median values\n",
        "abox=Box_plot()\n",
        "abox.box('3.xlsx',x_col_name=['line1','line2','line3'],x_label='x',y_label='y',paper_type='single',showmeans=True,actual_value=True)"
      ],
      "execution_count": 6,
      "outputs": [
        {
          "output_type": "display_data",
          "data": {
            "image/png": "[encoded data removed]",
            "text/plain": [
              "<Figure size 576x432 with 1 Axes>"
            ]
          },
          "metadata": {
            "tags": [],
            "needs_background": "light"
          }
        }
      ]
    },
    {
      "cell_type": "code",
      "metadata": {
        "id": "NA8x_bHRnhs-"
      },
      "source": [
        ""
      ],
      "execution_count": null,
      "outputs": []
    }
  ]
}
